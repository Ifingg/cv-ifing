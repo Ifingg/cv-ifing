{
 "cells": [
  {
   "cell_type": "code",
   "execution_count": 5,
   "id": "5b131646-c4e4-4b1e-af85-83dcea82024e",
   "metadata": {},
   "outputs": [],
   "source": [
    "import numpy as np\n",
    "import cv2\n",
    "\n",
    "# Ukuran bendera\n",
    "height = 300\n",
    "width = 450\n",
    "\n",
    "# Warna\n",
    "red = (0, 0, 255)      # Merah\n",
    "white = (255, 255, 255) # Putih\n",
    "\n",
    "# Membuat latar belakang putih (sebagai dasar)\n",
    "flag = np.zeros((height, width, 3), dtype=np.uint8)\n",
    "\n",
    "# Tinggi setiap garis horizontal\n",
    "stripe_height = height // 3\n",
    "\n",
    "# Menggambar garis horizontal merah di bagian atas\n",
    "flag[:stripe_height, :] = red\n",
    "\n",
    "# Menggambar garis horizontal putih di tengah\n",
    "flag[stripe_height:2 * stripe_height, :] = white\n",
    "\n",
    "# Menggambar garis horizontal merah di bagian bawah\n",
    "flag[2 * stripe_height:, :] = red\n",
    "\n",
    "# Menampilkan bendera\n",
    "cv2.imshow(\"Bendera Austria\", flag)\n",
    "cv2.waitKey(0)\n",
    "cv2.destroyAllWindows()"
   ]
  },
  {
   "cell_type": "code",
   "execution_count": null,
   "id": "8aaef96e-f02c-4a90-ac42-c444b1f4e9bb",
   "metadata": {},
   "outputs": [],
   "source": []
  }
 ],
 "metadata": {
  "kernelspec": {
   "display_name": "Python 3 (ipykernel)",
   "language": "python",
   "name": "python3"
  },
  "language_info": {
   "codemirror_mode": {
    "name": "ipython",
    "version": 3
   },
   "file_extension": ".py",
   "mimetype": "text/x-python",
   "name": "python",
   "nbconvert_exporter": "python",
   "pygments_lexer": "ipython3",
   "version": "3.13.2"
  }
 },
 "nbformat": 4,
 "nbformat_minor": 5
}
